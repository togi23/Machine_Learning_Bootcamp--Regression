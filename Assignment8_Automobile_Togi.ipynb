{
 "metadata": {
  "language_info": {
   "codemirror_mode": {
    "name": "ipython",
    "version": 3
   },
   "file_extension": ".py",
   "mimetype": "text/x-python",
   "name": "python",
   "nbconvert_exporter": "python",
   "pygments_lexer": "ipython3",
   "version": "3.8.5-final"
  },
  "orig_nbformat": 2,
  "kernelspec": {
   "name": "python38564bit981c7d555192407d9e24eb5c06e2f56a",
   "display_name": "Python 3.8.5 64-bit"
  }
 },
 "nbformat": 4,
 "nbformat_minor": 2,
 "cells": [
  {
   "source": [
    "'''\n",
    "1\n",
    "'''"
   ],
   "cell_type": "markdown",
   "metadata": {}
  },
  {
   "cell_type": "code",
   "execution_count": 1,
   "metadata": {},
   "outputs": [],
   "source": [
    "%matplotlib inline\n",
    "import numpy as np\n",
    "import pandas as pd\n",
    "import matplotlib.pyplot as plt\n",
    "import seaborn as sns\n",
    "from sklearn.preprocessing import StandardScaler, PowerTransformer, QuantileTransformer, MinMaxScaler, MaxAbsScaler, RobustScaler\n",
    "from sklearn.model_selection import train_test_split\n",
    "from sklearn.linear_model import LinearRegression\n",
    "from sklearn.metrics import r2_score, mean_squared_error, mean_absolute_error"
   ]
  },
  {
   "cell_type": "code",
   "execution_count": 2,
   "metadata": {},
   "outputs": [],
   "source": [
    "dataset = pd.read_csv('auto.csv')"
   ]
  },
  {
   "cell_type": "code",
   "execution_count": 6,
   "metadata": {},
   "outputs": [
    {
     "output_type": "execute_result",
     "data": {
      "text/plain": "   symboling normalized-losses         make fuel-type aspiration num-of-doors  \\\n0          3                 ?  alfa-romero       gas        std          two   \n1          3                 ?  alfa-romero       gas        std          two   \n2          1                 ?  alfa-romero       gas        std          two   \n3          2               164         audi       gas        std         four   \n4          2               164         audi       gas        std         four   \n5          2                 ?         audi       gas        std          two   \n6          1               158         audi       gas        std         four   \n7          1                 ?         audi       gas        std         four   \n8          1               158         audi       gas      turbo         four   \n9          0                 ?         audi       gas      turbo          two   \n\n    body-style drive-wheels engine-location  wheel-base  ...   engine-size  \\\n0  convertible          rwd           front        88.6  ...           130   \n1  convertible          rwd           front        88.6  ...           130   \n2    hatchback          rwd           front        94.5  ...           152   \n3        sedan          fwd           front        99.8  ...           109   \n4        sedan          4wd           front        99.4  ...           136   \n5        sedan          fwd           front        99.8  ...           136   \n6        sedan          fwd           front       105.8  ...           136   \n7        wagon          fwd           front       105.8  ...           136   \n8        sedan          fwd           front       105.8  ...           131   \n9    hatchback          4wd           front        99.5  ...           131   \n\n   fuel-system  bore  stroke compression-ratio horsepower  peak-rpm city-mpg  \\\n0         mpfi  3.47    2.68               9.0        111      5000       21   \n1         mpfi  3.47    2.68               9.0        111      5000       21   \n2         mpfi  2.68    3.47               9.0        154      5000       19   \n3         mpfi  3.19    3.40              10.0        102      5500       24   \n4         mpfi  3.19    3.40               8.0        115      5500       18   \n5         mpfi  3.19    3.40               8.5        110      5500       19   \n6         mpfi  3.19    3.40               8.5        110      5500       19   \n7         mpfi  3.19    3.40               8.5        110      5500       19   \n8         mpfi  3.13    3.40               8.3        140      5500       17   \n9         mpfi  3.13    3.40               7.0        160      5500       16   \n\n  highway-mpg  price  \n0          27  13495  \n1          27  16500  \n2          26  16500  \n3          30  13950  \n4          22  17450  \n5          25  15250  \n6          25  17710  \n7          25  18920  \n8          20  23875  \n9          22      ?  \n\n[10 rows x 26 columns]",
      "text/html": "<div>\n<style scoped>\n    .dataframe tbody tr th:only-of-type {\n        vertical-align: middle;\n    }\n\n    .dataframe tbody tr th {\n        vertical-align: top;\n    }\n\n    .dataframe thead th {\n        text-align: right;\n    }\n</style>\n<table border=\"1\" class=\"dataframe\">\n  <thead>\n    <tr style=\"text-align: right;\">\n      <th></th>\n      <th>symboling</th>\n      <th>normalized-losses</th>\n      <th>make</th>\n      <th>fuel-type</th>\n      <th>aspiration</th>\n      <th>num-of-doors</th>\n      <th>body-style</th>\n      <th>drive-wheels</th>\n      <th>engine-location</th>\n      <th>wheel-base</th>\n      <th>...</th>\n      <th>engine-size</th>\n      <th>fuel-system</th>\n      <th>bore</th>\n      <th>stroke</th>\n      <th>compression-ratio</th>\n      <th>horsepower</th>\n      <th>peak-rpm</th>\n      <th>city-mpg</th>\n      <th>highway-mpg</th>\n      <th>price</th>\n    </tr>\n  </thead>\n  <tbody>\n    <tr>\n      <th>0</th>\n      <td>3</td>\n      <td>?</td>\n      <td>alfa-romero</td>\n      <td>gas</td>\n      <td>std</td>\n      <td>two</td>\n      <td>convertible</td>\n      <td>rwd</td>\n      <td>front</td>\n      <td>88.6</td>\n      <td>...</td>\n      <td>130</td>\n      <td>mpfi</td>\n      <td>3.47</td>\n      <td>2.68</td>\n      <td>9.0</td>\n      <td>111</td>\n      <td>5000</td>\n      <td>21</td>\n      <td>27</td>\n      <td>13495</td>\n    </tr>\n    <tr>\n      <th>1</th>\n      <td>3</td>\n      <td>?</td>\n      <td>alfa-romero</td>\n      <td>gas</td>\n      <td>std</td>\n      <td>two</td>\n      <td>convertible</td>\n      <td>rwd</td>\n      <td>front</td>\n      <td>88.6</td>\n      <td>...</td>\n      <td>130</td>\n      <td>mpfi</td>\n      <td>3.47</td>\n      <td>2.68</td>\n      <td>9.0</td>\n      <td>111</td>\n      <td>5000</td>\n      <td>21</td>\n      <td>27</td>\n      <td>16500</td>\n    </tr>\n    <tr>\n      <th>2</th>\n      <td>1</td>\n      <td>?</td>\n      <td>alfa-romero</td>\n      <td>gas</td>\n      <td>std</td>\n      <td>two</td>\n      <td>hatchback</td>\n      <td>rwd</td>\n      <td>front</td>\n      <td>94.5</td>\n      <td>...</td>\n      <td>152</td>\n      <td>mpfi</td>\n      <td>2.68</td>\n      <td>3.47</td>\n      <td>9.0</td>\n      <td>154</td>\n      <td>5000</td>\n      <td>19</td>\n      <td>26</td>\n      <td>16500</td>\n    </tr>\n    <tr>\n      <th>3</th>\n      <td>2</td>\n      <td>164</td>\n      <td>audi</td>\n      <td>gas</td>\n      <td>std</td>\n      <td>four</td>\n      <td>sedan</td>\n      <td>fwd</td>\n      <td>front</td>\n      <td>99.8</td>\n      <td>...</td>\n      <td>109</td>\n      <td>mpfi</td>\n      <td>3.19</td>\n      <td>3.40</td>\n      <td>10.0</td>\n      <td>102</td>\n      <td>5500</td>\n      <td>24</td>\n      <td>30</td>\n      <td>13950</td>\n    </tr>\n    <tr>\n      <th>4</th>\n      <td>2</td>\n      <td>164</td>\n      <td>audi</td>\n      <td>gas</td>\n      <td>std</td>\n      <td>four</td>\n      <td>sedan</td>\n      <td>4wd</td>\n      <td>front</td>\n      <td>99.4</td>\n      <td>...</td>\n      <td>136</td>\n      <td>mpfi</td>\n      <td>3.19</td>\n      <td>3.40</td>\n      <td>8.0</td>\n      <td>115</td>\n      <td>5500</td>\n      <td>18</td>\n      <td>22</td>\n      <td>17450</td>\n    </tr>\n    <tr>\n      <th>5</th>\n      <td>2</td>\n      <td>?</td>\n      <td>audi</td>\n      <td>gas</td>\n      <td>std</td>\n      <td>two</td>\n      <td>sedan</td>\n      <td>fwd</td>\n      <td>front</td>\n      <td>99.8</td>\n      <td>...</td>\n      <td>136</td>\n      <td>mpfi</td>\n      <td>3.19</td>\n      <td>3.40</td>\n      <td>8.5</td>\n      <td>110</td>\n      <td>5500</td>\n      <td>19</td>\n      <td>25</td>\n      <td>15250</td>\n    </tr>\n    <tr>\n      <th>6</th>\n      <td>1</td>\n      <td>158</td>\n      <td>audi</td>\n      <td>gas</td>\n      <td>std</td>\n      <td>four</td>\n      <td>sedan</td>\n      <td>fwd</td>\n      <td>front</td>\n      <td>105.8</td>\n      <td>...</td>\n      <td>136</td>\n      <td>mpfi</td>\n      <td>3.19</td>\n      <td>3.40</td>\n      <td>8.5</td>\n      <td>110</td>\n      <td>5500</td>\n      <td>19</td>\n      <td>25</td>\n      <td>17710</td>\n    </tr>\n    <tr>\n      <th>7</th>\n      <td>1</td>\n      <td>?</td>\n      <td>audi</td>\n      <td>gas</td>\n      <td>std</td>\n      <td>four</td>\n      <td>wagon</td>\n      <td>fwd</td>\n      <td>front</td>\n      <td>105.8</td>\n      <td>...</td>\n      <td>136</td>\n      <td>mpfi</td>\n      <td>3.19</td>\n      <td>3.40</td>\n      <td>8.5</td>\n      <td>110</td>\n      <td>5500</td>\n      <td>19</td>\n      <td>25</td>\n      <td>18920</td>\n    </tr>\n    <tr>\n      <th>8</th>\n      <td>1</td>\n      <td>158</td>\n      <td>audi</td>\n      <td>gas</td>\n      <td>turbo</td>\n      <td>four</td>\n      <td>sedan</td>\n      <td>fwd</td>\n      <td>front</td>\n      <td>105.8</td>\n      <td>...</td>\n      <td>131</td>\n      <td>mpfi</td>\n      <td>3.13</td>\n      <td>3.40</td>\n      <td>8.3</td>\n      <td>140</td>\n      <td>5500</td>\n      <td>17</td>\n      <td>20</td>\n      <td>23875</td>\n    </tr>\n    <tr>\n      <th>9</th>\n      <td>0</td>\n      <td>?</td>\n      <td>audi</td>\n      <td>gas</td>\n      <td>turbo</td>\n      <td>two</td>\n      <td>hatchback</td>\n      <td>4wd</td>\n      <td>front</td>\n      <td>99.5</td>\n      <td>...</td>\n      <td>131</td>\n      <td>mpfi</td>\n      <td>3.13</td>\n      <td>3.40</td>\n      <td>7.0</td>\n      <td>160</td>\n      <td>5500</td>\n      <td>16</td>\n      <td>22</td>\n      <td>?</td>\n    </tr>\n  </tbody>\n</table>\n<p>10 rows × 26 columns</p>\n</div>"
     },
     "metadata": {},
     "execution_count": 6
    }
   ],
   "source": [
    "dataset.head(10)"
   ]
  },
  {
   "cell_type": "code",
   "execution_count": 5,
   "metadata": {},
   "outputs": [
    {
     "output_type": "execute_result",
     "data": {
      "text/plain": "        symboling  wheel-base      length       width      height  \\\ncount  205.000000  205.000000  205.000000  205.000000  205.000000   \nmean     0.834146   98.756585  174.049268   65.907805   53.724878   \nstd      1.245307    6.021776   12.337289    2.145204    2.443522   \nmin     -2.000000   86.600000  141.100000   60.300000   47.800000   \n25%      0.000000   94.500000  166.300000   64.100000   52.000000   \n50%      1.000000   97.000000  173.200000   65.500000   54.100000   \n75%      2.000000  102.400000  183.100000   66.900000   55.500000   \nmax      3.000000  120.900000  208.100000   72.300000   59.800000   \n\n       curb-weight   engine-size  compression-ratio    city-mpg  highway-mpg  \ncount   205.000000    205.000000         205.000000  205.000000   205.000000  \nmean   2555.565854    126.907317          10.142537   25.219512    30.751220  \nstd     520.680204     41.642693           3.972040    6.542142     6.886443  \nmin    1488.000000     61.000000           7.000000   13.000000    16.000000  \n25%    2145.000000     97.000000           8.600000   19.000000    25.000000  \n50%    2414.000000    120.000000           9.000000   24.000000    30.000000  \n75%    2935.000000    141.000000           9.400000   30.000000    34.000000  \nmax    4066.000000    326.000000          23.000000   49.000000    54.000000  ",
      "text/html": "<div>\n<style scoped>\n    .dataframe tbody tr th:only-of-type {\n        vertical-align: middle;\n    }\n\n    .dataframe tbody tr th {\n        vertical-align: top;\n    }\n\n    .dataframe thead th {\n        text-align: right;\n    }\n</style>\n<table border=\"1\" class=\"dataframe\">\n  <thead>\n    <tr style=\"text-align: right;\">\n      <th></th>\n      <th>symboling</th>\n      <th>wheel-base</th>\n      <th>length</th>\n      <th>width</th>\n      <th>height</th>\n      <th>curb-weight</th>\n      <th>engine-size</th>\n      <th>compression-ratio</th>\n      <th>city-mpg</th>\n      <th>highway-mpg</th>\n    </tr>\n  </thead>\n  <tbody>\n    <tr>\n      <th>count</th>\n      <td>205.000000</td>\n      <td>205.000000</td>\n      <td>205.000000</td>\n      <td>205.000000</td>\n      <td>205.000000</td>\n      <td>205.000000</td>\n      <td>205.000000</td>\n      <td>205.000000</td>\n      <td>205.000000</td>\n      <td>205.000000</td>\n    </tr>\n    <tr>\n      <th>mean</th>\n      <td>0.834146</td>\n      <td>98.756585</td>\n      <td>174.049268</td>\n      <td>65.907805</td>\n      <td>53.724878</td>\n      <td>2555.565854</td>\n      <td>126.907317</td>\n      <td>10.142537</td>\n      <td>25.219512</td>\n      <td>30.751220</td>\n    </tr>\n    <tr>\n      <th>std</th>\n      <td>1.245307</td>\n      <td>6.021776</td>\n      <td>12.337289</td>\n      <td>2.145204</td>\n      <td>2.443522</td>\n      <td>520.680204</td>\n      <td>41.642693</td>\n      <td>3.972040</td>\n      <td>6.542142</td>\n      <td>6.886443</td>\n    </tr>\n    <tr>\n      <th>min</th>\n      <td>-2.000000</td>\n      <td>86.600000</td>\n      <td>141.100000</td>\n      <td>60.300000</td>\n      <td>47.800000</td>\n      <td>1488.000000</td>\n      <td>61.000000</td>\n      <td>7.000000</td>\n      <td>13.000000</td>\n      <td>16.000000</td>\n    </tr>\n    <tr>\n      <th>25%</th>\n      <td>0.000000</td>\n      <td>94.500000</td>\n      <td>166.300000</td>\n      <td>64.100000</td>\n      <td>52.000000</td>\n      <td>2145.000000</td>\n      <td>97.000000</td>\n      <td>8.600000</td>\n      <td>19.000000</td>\n      <td>25.000000</td>\n    </tr>\n    <tr>\n      <th>50%</th>\n      <td>1.000000</td>\n      <td>97.000000</td>\n      <td>173.200000</td>\n      <td>65.500000</td>\n      <td>54.100000</td>\n      <td>2414.000000</td>\n      <td>120.000000</td>\n      <td>9.000000</td>\n      <td>24.000000</td>\n      <td>30.000000</td>\n    </tr>\n    <tr>\n      <th>75%</th>\n      <td>2.000000</td>\n      <td>102.400000</td>\n      <td>183.100000</td>\n      <td>66.900000</td>\n      <td>55.500000</td>\n      <td>2935.000000</td>\n      <td>141.000000</td>\n      <td>9.400000</td>\n      <td>30.000000</td>\n      <td>34.000000</td>\n    </tr>\n    <tr>\n      <th>max</th>\n      <td>3.000000</td>\n      <td>120.900000</td>\n      <td>208.100000</td>\n      <td>72.300000</td>\n      <td>59.800000</td>\n      <td>4066.000000</td>\n      <td>326.000000</td>\n      <td>23.000000</td>\n      <td>49.000000</td>\n      <td>54.000000</td>\n    </tr>\n  </tbody>\n</table>\n</div>"
     },
     "metadata": {},
     "execution_count": 5
    }
   ],
   "source": [
    "dataset.describe()"
   ]
  },
  {
   "cell_type": "code",
   "execution_count": 10,
   "metadata": {},
   "outputs": [],
   "source": [
    "dataset.replace('?', np.NaN, inplace=True)"
   ]
  },
  {
   "cell_type": "code",
   "execution_count": 11,
   "metadata": {},
   "outputs": [
    {
     "output_type": "execute_result",
     "data": {
      "text/plain": "   symboling normalized-losses         make fuel-type aspiration num-of-doors  \\\n0          3               NaN  alfa-romero       gas        std          two   \n1          3               NaN  alfa-romero       gas        std          two   \n2          1               NaN  alfa-romero       gas        std          two   \n3          2               164         audi       gas        std         four   \n4          2               164         audi       gas        std         four   \n5          2               NaN         audi       gas        std          two   \n6          1               158         audi       gas        std         four   \n7          1               NaN         audi       gas        std         four   \n8          1               158         audi       gas      turbo         four   \n9          0               NaN         audi       gas      turbo          two   \n\n    body-style drive-wheels engine-location  wheel-base  ...   engine-size  \\\n0  convertible          rwd           front        88.6  ...           130   \n1  convertible          rwd           front        88.6  ...           130   \n2    hatchback          rwd           front        94.5  ...           152   \n3        sedan          fwd           front        99.8  ...           109   \n4        sedan          4wd           front        99.4  ...           136   \n5        sedan          fwd           front        99.8  ...           136   \n6        sedan          fwd           front       105.8  ...           136   \n7        wagon          fwd           front       105.8  ...           136   \n8        sedan          fwd           front       105.8  ...           131   \n9    hatchback          4wd           front        99.5  ...           131   \n\n   fuel-system  bore  stroke compression-ratio horsepower  peak-rpm city-mpg  \\\n0         mpfi  3.47    2.68               9.0        111      5000       21   \n1         mpfi  3.47    2.68               9.0        111      5000       21   \n2         mpfi  2.68    3.47               9.0        154      5000       19   \n3         mpfi  3.19    3.40              10.0        102      5500       24   \n4         mpfi  3.19    3.40               8.0        115      5500       18   \n5         mpfi  3.19    3.40               8.5        110      5500       19   \n6         mpfi  3.19    3.40               8.5        110      5500       19   \n7         mpfi  3.19    3.40               8.5        110      5500       19   \n8         mpfi  3.13    3.40               8.3        140      5500       17   \n9         mpfi  3.13    3.40               7.0        160      5500       16   \n\n  highway-mpg  price  \n0          27  13495  \n1          27  16500  \n2          26  16500  \n3          30  13950  \n4          22  17450  \n5          25  15250  \n6          25  17710  \n7          25  18920  \n8          20  23875  \n9          22    NaN  \n\n[10 rows x 26 columns]",
      "text/html": "<div>\n<style scoped>\n    .dataframe tbody tr th:only-of-type {\n        vertical-align: middle;\n    }\n\n    .dataframe tbody tr th {\n        vertical-align: top;\n    }\n\n    .dataframe thead th {\n        text-align: right;\n    }\n</style>\n<table border=\"1\" class=\"dataframe\">\n  <thead>\n    <tr style=\"text-align: right;\">\n      <th></th>\n      <th>symboling</th>\n      <th>normalized-losses</th>\n      <th>make</th>\n      <th>fuel-type</th>\n      <th>aspiration</th>\n      <th>num-of-doors</th>\n      <th>body-style</th>\n      <th>drive-wheels</th>\n      <th>engine-location</th>\n      <th>wheel-base</th>\n      <th>...</th>\n      <th>engine-size</th>\n      <th>fuel-system</th>\n      <th>bore</th>\n      <th>stroke</th>\n      <th>compression-ratio</th>\n      <th>horsepower</th>\n      <th>peak-rpm</th>\n      <th>city-mpg</th>\n      <th>highway-mpg</th>\n      <th>price</th>\n    </tr>\n  </thead>\n  <tbody>\n    <tr>\n      <th>0</th>\n      <td>3</td>\n      <td>NaN</td>\n      <td>alfa-romero</td>\n      <td>gas</td>\n      <td>std</td>\n      <td>two</td>\n      <td>convertible</td>\n      <td>rwd</td>\n      <td>front</td>\n      <td>88.6</td>\n      <td>...</td>\n      <td>130</td>\n      <td>mpfi</td>\n      <td>3.47</td>\n      <td>2.68</td>\n      <td>9.0</td>\n      <td>111</td>\n      <td>5000</td>\n      <td>21</td>\n      <td>27</td>\n      <td>13495</td>\n    </tr>\n    <tr>\n      <th>1</th>\n      <td>3</td>\n      <td>NaN</td>\n      <td>alfa-romero</td>\n      <td>gas</td>\n      <td>std</td>\n      <td>two</td>\n      <td>convertible</td>\n      <td>rwd</td>\n      <td>front</td>\n      <td>88.6</td>\n      <td>...</td>\n      <td>130</td>\n      <td>mpfi</td>\n      <td>3.47</td>\n      <td>2.68</td>\n      <td>9.0</td>\n      <td>111</td>\n      <td>5000</td>\n      <td>21</td>\n      <td>27</td>\n      <td>16500</td>\n    </tr>\n    <tr>\n      <th>2</th>\n      <td>1</td>\n      <td>NaN</td>\n      <td>alfa-romero</td>\n      <td>gas</td>\n      <td>std</td>\n      <td>two</td>\n      <td>hatchback</td>\n      <td>rwd</td>\n      <td>front</td>\n      <td>94.5</td>\n      <td>...</td>\n      <td>152</td>\n      <td>mpfi</td>\n      <td>2.68</td>\n      <td>3.47</td>\n      <td>9.0</td>\n      <td>154</td>\n      <td>5000</td>\n      <td>19</td>\n      <td>26</td>\n      <td>16500</td>\n    </tr>\n    <tr>\n      <th>3</th>\n      <td>2</td>\n      <td>164</td>\n      <td>audi</td>\n      <td>gas</td>\n      <td>std</td>\n      <td>four</td>\n      <td>sedan</td>\n      <td>fwd</td>\n      <td>front</td>\n      <td>99.8</td>\n      <td>...</td>\n      <td>109</td>\n      <td>mpfi</td>\n      <td>3.19</td>\n      <td>3.40</td>\n      <td>10.0</td>\n      <td>102</td>\n      <td>5500</td>\n      <td>24</td>\n      <td>30</td>\n      <td>13950</td>\n    </tr>\n    <tr>\n      <th>4</th>\n      <td>2</td>\n      <td>164</td>\n      <td>audi</td>\n      <td>gas</td>\n      <td>std</td>\n      <td>four</td>\n      <td>sedan</td>\n      <td>4wd</td>\n      <td>front</td>\n      <td>99.4</td>\n      <td>...</td>\n      <td>136</td>\n      <td>mpfi</td>\n      <td>3.19</td>\n      <td>3.40</td>\n      <td>8.0</td>\n      <td>115</td>\n      <td>5500</td>\n      <td>18</td>\n      <td>22</td>\n      <td>17450</td>\n    </tr>\n    <tr>\n      <th>5</th>\n      <td>2</td>\n      <td>NaN</td>\n      <td>audi</td>\n      <td>gas</td>\n      <td>std</td>\n      <td>two</td>\n      <td>sedan</td>\n      <td>fwd</td>\n      <td>front</td>\n      <td>99.8</td>\n      <td>...</td>\n      <td>136</td>\n      <td>mpfi</td>\n      <td>3.19</td>\n      <td>3.40</td>\n      <td>8.5</td>\n      <td>110</td>\n      <td>5500</td>\n      <td>19</td>\n      <td>25</td>\n      <td>15250</td>\n    </tr>\n    <tr>\n      <th>6</th>\n      <td>1</td>\n      <td>158</td>\n      <td>audi</td>\n      <td>gas</td>\n      <td>std</td>\n      <td>four</td>\n      <td>sedan</td>\n      <td>fwd</td>\n      <td>front</td>\n      <td>105.8</td>\n      <td>...</td>\n      <td>136</td>\n      <td>mpfi</td>\n      <td>3.19</td>\n      <td>3.40</td>\n      <td>8.5</td>\n      <td>110</td>\n      <td>5500</td>\n      <td>19</td>\n      <td>25</td>\n      <td>17710</td>\n    </tr>\n    <tr>\n      <th>7</th>\n      <td>1</td>\n      <td>NaN</td>\n      <td>audi</td>\n      <td>gas</td>\n      <td>std</td>\n      <td>four</td>\n      <td>wagon</td>\n      <td>fwd</td>\n      <td>front</td>\n      <td>105.8</td>\n      <td>...</td>\n      <td>136</td>\n      <td>mpfi</td>\n      <td>3.19</td>\n      <td>3.40</td>\n      <td>8.5</td>\n      <td>110</td>\n      <td>5500</td>\n      <td>19</td>\n      <td>25</td>\n      <td>18920</td>\n    </tr>\n    <tr>\n      <th>8</th>\n      <td>1</td>\n      <td>158</td>\n      <td>audi</td>\n      <td>gas</td>\n      <td>turbo</td>\n      <td>four</td>\n      <td>sedan</td>\n      <td>fwd</td>\n      <td>front</td>\n      <td>105.8</td>\n      <td>...</td>\n      <td>131</td>\n      <td>mpfi</td>\n      <td>3.13</td>\n      <td>3.40</td>\n      <td>8.3</td>\n      <td>140</td>\n      <td>5500</td>\n      <td>17</td>\n      <td>20</td>\n      <td>23875</td>\n    </tr>\n    <tr>\n      <th>9</th>\n      <td>0</td>\n      <td>NaN</td>\n      <td>audi</td>\n      <td>gas</td>\n      <td>turbo</td>\n      <td>two</td>\n      <td>hatchback</td>\n      <td>4wd</td>\n      <td>front</td>\n      <td>99.5</td>\n      <td>...</td>\n      <td>131</td>\n      <td>mpfi</td>\n      <td>3.13</td>\n      <td>3.40</td>\n      <td>7.0</td>\n      <td>160</td>\n      <td>5500</td>\n      <td>16</td>\n      <td>22</td>\n      <td>NaN</td>\n    </tr>\n  </tbody>\n</table>\n<p>10 rows × 26 columns</p>\n</div>"
     },
     "metadata": {},
     "execution_count": 11
    }
   ],
   "source": [
    "dataset.head(10)"
   ]
  },
  {
   "cell_type": "code",
   "execution_count": 17,
   "metadata": {},
   "outputs": [
    {
     "output_type": "execute_result",
     "data": {
      "text/plain": "normalized-losses    41\nprice                 4\nstroke                4\nbore                  4\npeak-rpm              2\nhorsepower            2\nnum-of-doors          2\nlength                0\nmake                  0\nfuel-type             0\naspiration            0\nbody-style            0\ndrive-wheels          0\nengine-location       0\nwheel-base            0\nheight                0\nwidth                 0\nhighway-mpg           0\ncurb-weight           0\nengine-type           0\nnum-of-cylinders      0\n engine-size          0\nfuel-system           0\ncompression-ratio     0\ncity-mpg              0\nsymboling             0\ndtype: int64"
     },
     "metadata": {},
     "execution_count": 17
    }
   ],
   "source": [
    "dataset.isnull().sum().sort_values(ascending=False)"
   ]
  },
  {
   "cell_type": "code",
   "execution_count": 4,
   "metadata": {},
   "outputs": [
    {
     "output_type": "execute_result",
     "data": {
      "text/plain": "symboling              int64\nnormalized-losses     object\nmake                  object\nfuel-type             object\naspiration            object\nnum-of-doors          object\nbody-style            object\ndrive-wheels          object\nengine-location       object\nwheel-base           float64\nlength               float64\nwidth                float64\nheight               float64\ncurb-weight            int64\nengine-type           object\nnum-of-cylinders      object\n engine-size           int64\nfuel-system           object\nbore                  object\nstroke                object\ncompression-ratio    float64\nhorsepower            object\npeak-rpm              object\ncity-mpg               int64\nhighway-mpg            int64\nprice                 object\ndtype: object"
     },
     "metadata": {},
     "execution_count": 4
    }
   ],
   "source": [
    "dataset.dtypes"
   ]
  },
  {
   "cell_type": "code",
   "execution_count": 25,
   "metadata": {
    "tags": []
   },
   "outputs": [],
   "source": [
    "#changing data types\n",
    "dataset['normalized-losses'] = dataset['normalized-losses'].astype(float)\n",
    "dataset['price'] = dataset['price'].astype(float)\n",
    "dataset['bore'] = dataset['bore'].astype(float)\n",
    "dataset['stroke'] = dataset['stroke'].astype(float)\n",
    "dataset['peak-rpm'] = dataset['peak-rpm'].astype(float)\n",
    "dataset['horsepower'] = dataset['horsepower'].astype(float)"
   ]
  },
  {
   "cell_type": "code",
   "execution_count": 35,
   "metadata": {},
   "outputs": [],
   "source": [
    "'''get their mean'''\n",
    "avg_norm_loss = dataset['normalized-losses'].mean(axis=0)\n",
    "avg_prc = dataset['price'].mean(axis=0)\n",
    "avg_bo = dataset['bore'].mean(axis=0)\n",
    "avg_st = dataset['stroke'].mean(axis=0)\n",
    "avg_rpm = dataset['peak-rpm'].mean(axis=0)\n",
    "avg_hp = dataset['horsepower'].mean(axis=0)\n",
    "\n",
    "dataset['normalized-losses'].replace(np.nan, avg_norm_loss, inplace=True)\n",
    "dataset['price'].replace(np.nan, avg_prc, inplace=True)\n",
    "dataset['bore'].replace(np.nan, avg_bo, inplace=True)\n",
    "dataset['stroke'].replace(np.nan, avg_st, inplace=True)\n",
    "dataset['peak-rpm'].replace(np.nan, avg_rpm, inplace=True)\n",
    "dataset['horsepower'].replace(np.nan, avg_hp, inplace=True)"
   ]
  },
  {
   "cell_type": "code",
   "execution_count": 37,
   "metadata": {},
   "outputs": [
    {
     "output_type": "execute_result",
     "data": {
      "text/plain": "four    114\ntwo      89\nName: num-of-doors, dtype: int64"
     },
     "metadata": {},
     "execution_count": 37
    }
   ],
   "source": [
    "dataset['num-of-doors'].value_counts()"
   ]
  },
  {
   "cell_type": "code",
   "execution_count": 38,
   "metadata": {},
   "outputs": [],
   "source": [
    "dataset['num-of-doors'].replace(np.nan, 'four', inplace=True)"
   ]
  },
  {
   "cell_type": "code",
   "execution_count": 47,
   "metadata": {},
   "outputs": [],
   "source": [
    "#ganti huruf jadi angka\n",
    "cleanup_nums = {\n",
    "    'num-of-doors' :{\n",
    "        'two' : 2,\n",
    "        'four' : 4\n",
    "    },\n",
    "    'num-of-cylinders':{\n",
    "        'two' : 2,\n",
    "        'three' : 3,\n",
    "        'four' : 4,\n",
    "        'five' : 5,\n",
    "        'six' : 6,\n",
    "        'eight' : 8,\n",
    "        'twelve' : 12\n",
    "    }\n",
    "}\n",
    "\n",
    "dataset.replace(cleanup_nums, inplace=True)"
   ]
  },
  {
   "cell_type": "code",
   "execution_count": 39,
   "metadata": {},
   "outputs": [
    {
     "output_type": "execute_result",
     "data": {
      "text/plain": "symboling            0\nnormalized-losses    0\nmake                 0\nfuel-type            0\naspiration           0\nnum-of-doors         0\nbody-style           0\ndrive-wheels         0\nengine-location      0\nwheel-base           0\nlength               0\nwidth                0\nheight               0\ncurb-weight          0\nengine-type          0\nnum-of-cylinders     0\n engine-size         0\nfuel-system          0\nbore                 0\nstroke               0\ncompression-ratio    0\nhorsepower           0\npeak-rpm             0\ncity-mpg             0\nhighway-mpg          0\nprice                0\ndtype: int64"
     },
     "metadata": {},
     "execution_count": 39
    }
   ],
   "source": [
    "dataset.isnull().sum()"
   ]
  },
  {
   "cell_type": "code",
   "execution_count": 42,
   "metadata": {},
   "outputs": [
    {
     "output_type": "execute_result",
     "data": {
      "text/plain": "toyota           32\nnissan           18\nmazda            17\nhonda            13\nmitsubishi       13\nvolkswagen       12\nsubaru           12\nvolvo            11\npeugot           11\ndodge             9\nmercedes-benz     8\nbmw               8\nplymouth          7\naudi              7\nsaab              6\nporsche           5\nisuzu             4\nchevrolet         3\njaguar            3\nalfa-romero       3\nrenault           2\nmercury           1\nName: make, dtype: int64"
     },
     "metadata": {},
     "execution_count": 42
    }
   ],
   "source": [
    "#Feature Engineering\n",
    "dataset['make'].value_counts()"
   ]
  },
  {
   "cell_type": "code",
   "execution_count": 45,
   "metadata": {},
   "outputs": [],
   "source": [
    "make_categorized = pd.get_dummies(dataset['make'])\n",
    "dataset = pd.concat([dataset, make_categorized], axis=1)"
   ]
  },
  {
   "cell_type": "code",
   "execution_count": 49,
   "metadata": {},
   "outputs": [
    {
     "output_type": "execute_result",
     "data": {
      "text/plain": "gas       185\ndiesel     20\nName: fuel-type, dtype: int64"
     },
     "metadata": {},
     "execution_count": 49
    }
   ],
   "source": [
    "dataset['fuel-type'].value_counts()"
   ]
  },
  {
   "cell_type": "code",
   "execution_count": 50,
   "metadata": {},
   "outputs": [],
   "source": [
    "fuel_categorized = pd.get_dummies(dataset['fuel-type'])\n",
    "dataset = pd.concat([dataset, fuel_categorized], axis=1)"
   ]
  },
  {
   "cell_type": "code",
   "execution_count": 53,
   "metadata": {},
   "outputs": [],
   "source": [
    "dataset.drop(['make', 'fuel-type'], axis=1, inplace=True)"
   ]
  },
  {
   "cell_type": "code",
   "execution_count": 55,
   "metadata": {
    "tags": []
   },
   "outputs": [
    {
     "output_type": "stream",
     "name": "stdout",
     "text": "<class 'pandas.core.frame.DataFrame'>\nRangeIndex: 205 entries, 0 to 204\nData columns (total 48 columns):\n #   Column             Non-Null Count  Dtype  \n---  ------             --------------  -----  \n 0   symboling          205 non-null    int64  \n 1   normalized-losses  205 non-null    float64\n 2   aspiration         205 non-null    object \n 3   num-of-doors       205 non-null    int64  \n 4   body-style         205 non-null    object \n 5   drive-wheels       205 non-null    object \n 6   engine-location    205 non-null    object \n 7   wheel-base         205 non-null    float64\n 8   length             205 non-null    float64\n 9   width              205 non-null    float64\n 10  height             205 non-null    float64\n 11  curb-weight        205 non-null    int64  \n 12  engine-type        205 non-null    object \n 13  num-of-cylinders   205 non-null    int64  \n 14   engine-size       205 non-null    int64  \n 15  fuel-system        205 non-null    object \n 16  bore               205 non-null    float64\n 17  stroke             205 non-null    float64\n 18  compression-ratio  205 non-null    float64\n 19  horsepower         205 non-null    float64\n 20  peak-rpm           205 non-null    float64\n 21  city-mpg           205 non-null    int64  \n 22  highway-mpg        205 non-null    int64  \n 23  price              205 non-null    float64\n 24  alfa-romero        205 non-null    uint8  \n 25  audi               205 non-null    uint8  \n 26  bmw                205 non-null    uint8  \n 27  chevrolet          205 non-null    uint8  \n 28  dodge              205 non-null    uint8  \n 29  honda              205 non-null    uint8  \n 30  isuzu              205 non-null    uint8  \n 31  jaguar             205 non-null    uint8  \n 32  mazda              205 non-null    uint8  \n 33  mercedes-benz      205 non-null    uint8  \n 34  mercury            205 non-null    uint8  \n 35  mitsubishi         205 non-null    uint8  \n 36  nissan             205 non-null    uint8  \n 37  peugot             205 non-null    uint8  \n 38  plymouth           205 non-null    uint8  \n 39  porsche            205 non-null    uint8  \n 40  renault            205 non-null    uint8  \n 41  saab               205 non-null    uint8  \n 42  subaru             205 non-null    uint8  \n 43  toyota             205 non-null    uint8  \n 44  volkswagen         205 non-null    uint8  \n 45  volvo              205 non-null    uint8  \n 46  diesel             205 non-null    uint8  \n 47  gas                205 non-null    uint8  \ndtypes: float64(11), int64(7), object(6), uint8(24)\nmemory usage: 43.4+ KB\n"
    }
   ],
   "source": [
    "dataset.info()"
   ]
  },
  {
   "cell_type": "code",
   "execution_count": 56,
   "metadata": {},
   "outputs": [],
   "source": [
    "features = dataset.drop(['aspiration','body-style','drive-wheels','engine-location','engine-type','fuel-system', 'price'], axis=1)\n",
    "label = dataset['price']"
   ]
  },
  {
   "cell_type": "code",
   "execution_count": 57,
   "metadata": {
    "tags": []
   },
   "outputs": [
    {
     "output_type": "stream",
     "name": "stdout",
     "text": "Preprocessing by StandardScaler()\nMSE (Mean Squared Error) 0.321\nMAE (Mean Absolute Error) 0.315\nr^2 score 0.622\nRMSE (Root Mean Squared Error): 0.566\n\nPreprocessing by PowerTransformer()\nMSE (Mean Squared Error) 0.0\nMAE (Mean Absolute Error) 0.0\nr^2 score 1.0\nRMSE (Root Mean Squared Error): 0.0\n\nUnexpected error: <class 'ValueError'>\n\nPreprocessing by QuantileTransformer()\nMSE (Mean Squared Error) 0.013\nMAE (Mean Absolute Error) 0.079\nr^2 score 0.805\nRMSE (Root Mean Squared Error): 0.115\n\nPreprocessing by MinMaxScaler()\nMSE (Mean Squared Error) 0.012\nMAE (Mean Absolute Error) 0.062\nr^2 score 0.621\nRMSE (Root Mean Squared Error): 0.111\n\nPreprocessing by MaxAbsScaler()\nMSE (Mean Squared Error) 0.01\nMAE (Mean Absolute Error) 0.055\nr^2 score 0.621\nRMSE (Root Mean Squared Error): 0.098\n\nPreprocessing by RobustScaler()\nMSE (Mean Squared Error) 0.261\nMAE (Mean Absolute Error) 0.286\nr^2 score 0.621\nRMSE (Root Mean Squared Error): 0.511\n\n"
    }
   ],
   "source": [
    "import sys\n",
    "scalers = [StandardScaler(), PowerTransformer(method='yeo-johnson'), PowerTransformer(method='box-cox'), QuantileTransformer(), MinMaxScaler(), MaxAbsScaler(), RobustScaler()]\n",
    "for i in scalers:\n",
    "    try:\n",
    "        scaler = i\n",
    "        features_scaled = scaler.fit_transform(features.values)\n",
    "        label_scaled = scaler.fit_transform(label.values.reshape(-1,1))\n",
    "        feature_train, feature_test,label_train, label_test = train_test_split(features_scaled, label_scaled, random_state=10)\n",
    "                    \n",
    "        lm = LinearRegression()\n",
    "        lm.fit(feature_train, label_train)\n",
    "        predictions = lm.predict(feature_test)\n",
    "\n",
    "        mse = mean_squared_error(label_test, predictions)\n",
    "        mae = mean_absolute_error(label_test, predictions)\n",
    "        r2 = r2_score(label_test, predictions)\n",
    "        print(\"Preprocessing by {}\".format(i))\n",
    "        print(\"MSE (Mean Squared Error)\", round(mse, 3))\n",
    "        print(\"MAE (Mean Absolute Error)\", round(mae, 3))\n",
    "        print(\"r^2 score\", round(r2,3))\n",
    "        print('RMSE (Root Mean Squared Error):', round(np.sqrt(mean_squared_error(label_test, predictions)), 3))\n",
    "        print(\"\")\n",
    "    except:\n",
    "        print(\"Unexpected error:\", sys.exc_info()[0])\n",
    "        print(\"\")\n",
    "        pass"
   ]
  },
  {
   "source": [
    "Metode yeo-johnson memiliki nilai r^2 score sempurna (1) dan rmse 0. Tetapi metode ini tidak optimal karena it tends to be overfitted. Metode preprocessing by QuantileTransformer() memiliki nilai r^2 score yang paling tinggi (0.805) dan nilai rmse yang cukup rendah (0.115) dan metode ini lebih optimal karena tidak overfitting. Metode box-cox error karena metode ini hanya dapat bekerja di dataset yang positif."
   ],
   "cell_type": "markdown",
   "metadata": {}
  },
  {
   "source": [
    "'''\n",
    "2\n",
    "'''"
   ],
   "cell_type": "markdown",
   "metadata": {}
  },
  {
   "cell_type": "code",
   "execution_count": 73,
   "metadata": {
    "tags": []
   },
   "outputs": [
    {
     "output_type": "stream",
     "name": "stdout",
     "text": "Accuracy of Random Forest with estimator 10 on test set: 0.90\nPreprocessing by RobustScaler()\nMSE (Mean Squared Error) 0.094\nMAE (Mean Absolute Error) 0.204\nr^2 score 0.904\nRMSE (Root Mean Squared Error): 0.307\n\nAccuracy of Random Forest with estimator 20 on test set: 0.89\nPreprocessing by RobustScaler()\nMSE (Mean Squared Error) 0.107\nMAE (Mean Absolute Error) 0.225\nr^2 score 0.891\nRMSE (Root Mean Squared Error): 0.327\n\nAccuracy of Random Forest with estimator 30 on test set: 0.87\nPreprocessing by RobustScaler()\nMSE (Mean Squared Error) 0.125\nMAE (Mean Absolute Error) 0.248\nr^2 score 0.872\nRMSE (Root Mean Squared Error): 0.354\n\nAccuracy of Random Forest with estimator 40 on test set: 0.88\nPreprocessing by RobustScaler()\nMSE (Mean Squared Error) 0.114\nMAE (Mean Absolute Error) 0.227\nr^2 score 0.884\nRMSE (Root Mean Squared Error): 0.338\n\nAccuracy of Random Forest with estimator 50 on test set: 0.90\nPreprocessing by RobustScaler()\nMSE (Mean Squared Error) 0.102\nMAE (Mean Absolute Error) 0.22\nr^2 score 0.896\nRMSE (Root Mean Squared Error): 0.32\n\nAccuracy of Random Forest with estimator 60 on test set: 0.88\nPreprocessing by RobustScaler()\nMSE (Mean Squared Error) 0.116\nMAE (Mean Absolute Error) 0.235\nr^2 score 0.882\nRMSE (Root Mean Squared Error): 0.341\n\nAccuracy of Random Forest with estimator 70 on test set: 0.91\nPreprocessing by RobustScaler()\nMSE (Mean Squared Error) 0.092\nMAE (Mean Absolute Error) 0.215\nr^2 score 0.906\nRMSE (Root Mean Squared Error): 0.304\n\nAccuracy of Random Forest with estimator 80 on test set: 0.90\nPreprocessing by RobustScaler()\nMSE (Mean Squared Error) 0.103\nMAE (Mean Absolute Error) 0.226\nr^2 score 0.895\nRMSE (Root Mean Squared Error): 0.321\n\nAccuracy of Random Forest with estimator 90 on test set: 0.90\nPreprocessing by RobustScaler()\nMSE (Mean Squared Error) 0.094\nMAE (Mean Absolute Error) 0.213\nr^2 score 0.904\nRMSE (Root Mean Squared Error): 0.307\n\nAccuracy of Random Forest with estimator 100 on test set: 0.89\nPreprocessing by RobustScaler()\nMSE (Mean Squared Error) 0.103\nMAE (Mean Absolute Error) 0.227\nr^2 score 0.895\nRMSE (Root Mean Squared Error): 0.322\n\nAccuracy of Random Forest with estimator 110 on test set: 0.90\nPreprocessing by RobustScaler()\nMSE (Mean Squared Error) 0.102\nMAE (Mean Absolute Error) 0.223\nr^2 score 0.896\nRMSE (Root Mean Squared Error): 0.32\n\nAccuracy of Random Forest with estimator 120 on test set: 0.90\nPreprocessing by RobustScaler()\nMSE (Mean Squared Error) 0.101\nMAE (Mean Absolute Error) 0.221\nr^2 score 0.898\nRMSE (Root Mean Squared Error): 0.317\n\nAccuracy of Random Forest with estimator 130 on test set: 0.90\nPreprocessing by RobustScaler()\nMSE (Mean Squared Error) 0.094\nMAE (Mean Absolute Error) 0.221\nr^2 score 0.904\nRMSE (Root Mean Squared Error): 0.307\n\nAccuracy of Random Forest with estimator 140 on test set: 0.90\nPreprocessing by RobustScaler()\nMSE (Mean Squared Error) 0.095\nMAE (Mean Absolute Error) 0.221\nr^2 score 0.903\nRMSE (Root Mean Squared Error): 0.309\n\nAccuracy of Random Forest with estimator 150 on test set: 0.90\nPreprocessing by RobustScaler()\nMSE (Mean Squared Error) 0.097\nMAE (Mean Absolute Error) 0.214\nr^2 score 0.901\nRMSE (Root Mean Squared Error): 0.312\n\nAccuracy of Random Forest with estimator 160 on test set: 0.90\nPreprocessing by RobustScaler()\nMSE (Mean Squared Error) 0.095\nMAE (Mean Absolute Error) 0.212\nr^2 score 0.903\nRMSE (Root Mean Squared Error): 0.309\n\nAccuracy of Random Forest with estimator 170 on test set: 0.90\nPreprocessing by RobustScaler()\nMSE (Mean Squared Error) 0.095\nMAE (Mean Absolute Error) 0.217\nr^2 score 0.903\nRMSE (Root Mean Squared Error): 0.309\n\nAccuracy of Random Forest with estimator 180 on test set: 0.91\nPreprocessing by RobustScaler()\nMSE (Mean Squared Error) 0.092\nMAE (Mean Absolute Error) 0.213\nr^2 score 0.907\nRMSE (Root Mean Squared Error): 0.303\n\nAccuracy of Random Forest with estimator 190 on test set: 0.90\nPreprocessing by RobustScaler()\nMSE (Mean Squared Error) 0.096\nMAE (Mean Absolute Error) 0.219\nr^2 score 0.902\nRMSE (Root Mean Squared Error): 0.31\n\nAccuracy of Random Forest with estimator 200 on test set: 0.90\nPreprocessing by RobustScaler()\nMSE (Mean Squared Error) 0.097\nMAE (Mean Absolute Error) 0.217\nr^2 score 0.901\nRMSE (Root Mean Squared Error): 0.312\n\n"
    }
   ],
   "source": [
    "#Random Forest Regressor\n",
    "from sklearn.ensemble import RandomForestRegressor\n",
    "est_num = [*range(10, 201, 10)]\n",
    "for index, val in enumerate(est_num):\n",
    "    rfg = RandomForestRegressor(n_estimators = val, bootstrap = True, max_features = 'sqrt')\n",
    "    rfg.fit(feature_train, label_train)\n",
    "    y_pred = rfg.predict(feature_test)\n",
    "    print('Accuracy of Random Forest with estimator {} on test set: {:.2f}'.format(val, rfg.score(feature_test, label_test)))\n",
    "    mse = mean_squared_error(label_test, y_pred)\n",
    "    mae = mean_absolute_error(label_test, y_pred)\n",
    "    r2 = r2_score(label_test, y_pred)\n",
    "    print(\"Preprocessing by {}\".format(i))\n",
    "    print(\"MSE (Mean Squared Error)\", round(mse, 3))\n",
    "    print(\"MAE (Mean Absolute Error)\", round(mae, 3))\n",
    "    print(\"r^2 score\", round(r2,3))\n",
    "    print('RMSE (Root Mean Squared Error):', round(np.sqrt(mean_squared_error(label_test, y_pred)), 3))\n",
    "    print(\"\")"
   ]
  },
  {
   "cell_type": "code",
   "execution_count": 72,
   "metadata": {
    "tags": []
   },
   "outputs": [
    {
     "output_type": "stream",
     "name": "stdout",
     "text": "Accuracy of xgboost with estimator 10 on test set: 0.72\nPreprocessing by RobustScaler()\nMSE (Mean Squared Error) 0.273\nMAE (Mean Absolute Error) 0.433\nr^2 score 0.722\nRMSE (Root Mean Squared Error): 0.523\n\nAccuracy of xgboost with estimator 20 on test set: 0.86\nPreprocessing by RobustScaler()\nMSE (Mean Squared Error) 0.135\nMAE (Mean Absolute Error) 0.294\nr^2 score 0.863\nRMSE (Root Mean Squared Error): 0.367\n\nAccuracy of xgboost with estimator 30 on test set: 0.88\nPreprocessing by RobustScaler()\nMSE (Mean Squared Error) 0.114\nMAE (Mean Absolute Error) 0.251\nr^2 score 0.884\nRMSE (Root Mean Squared Error): 0.338\n\nAccuracy of xgboost with estimator 40 on test set: 0.89\nPreprocessing by RobustScaler()\nMSE (Mean Squared Error) 0.112\nMAE (Mean Absolute Error) 0.239\nr^2 score 0.886\nRMSE (Root Mean Squared Error): 0.335\n\nAccuracy of xgboost with estimator 50 on test set: 0.89\nPreprocessing by RobustScaler()\nMSE (Mean Squared Error) 0.106\nMAE (Mean Absolute Error) 0.231\nr^2 score 0.892\nRMSE (Root Mean Squared Error): 0.326\n\nAccuracy of xgboost with estimator 60 on test set: 0.89\nPreprocessing by RobustScaler()\nMSE (Mean Squared Error) 0.106\nMAE (Mean Absolute Error) 0.23\nr^2 score 0.892\nRMSE (Root Mean Squared Error): 0.325\n\nAccuracy of xgboost with estimator 70 on test set: 0.89\nPreprocessing by RobustScaler()\nMSE (Mean Squared Error) 0.106\nMAE (Mean Absolute Error) 0.23\nr^2 score 0.892\nRMSE (Root Mean Squared Error): 0.325\n\nAccuracy of xgboost with estimator 80 on test set: 0.89\nPreprocessing by RobustScaler()\nMSE (Mean Squared Error) 0.106\nMAE (Mean Absolute Error) 0.23\nr^2 score 0.892\nRMSE (Root Mean Squared Error): 0.325\n\nAccuracy of xgboost with estimator 90 on test set: 0.89\nPreprocessing by RobustScaler()\nMSE (Mean Squared Error) 0.106\nMAE (Mean Absolute Error) 0.23\nr^2 score 0.892\nRMSE (Root Mean Squared Error): 0.325\n\nAccuracy of xgboost with estimator 100 on test set: 0.89\nPreprocessing by RobustScaler()\nMSE (Mean Squared Error) 0.106\nMAE (Mean Absolute Error) 0.23\nr^2 score 0.892\nRMSE (Root Mean Squared Error): 0.325\n\nAccuracy of xgboost with estimator 110 on test set: 0.89\nPreprocessing by RobustScaler()\nMSE (Mean Squared Error) 0.106\nMAE (Mean Absolute Error) 0.23\nr^2 score 0.892\nRMSE (Root Mean Squared Error): 0.325\n\nAccuracy of xgboost with estimator 120 on test set: 0.89\nPreprocessing by RobustScaler()\nMSE (Mean Squared Error) 0.106\nMAE (Mean Absolute Error) 0.23\nr^2 score 0.892\nRMSE (Root Mean Squared Error): 0.325\n\nAccuracy of xgboost with estimator 130 on test set: 0.89\nPreprocessing by RobustScaler()\nMSE (Mean Squared Error) 0.106\nMAE (Mean Absolute Error) 0.23\nr^2 score 0.892\nRMSE (Root Mean Squared Error): 0.325\n\nAccuracy of xgboost with estimator 140 on test set: 0.89\nPreprocessing by RobustScaler()\nMSE (Mean Squared Error) 0.106\nMAE (Mean Absolute Error) 0.23\nr^2 score 0.892\nRMSE (Root Mean Squared Error): 0.325\n\nAccuracy of xgboost with estimator 150 on test set: 0.89\nPreprocessing by RobustScaler()\nMSE (Mean Squared Error) 0.106\nMAE (Mean Absolute Error) 0.23\nr^2 score 0.892\nRMSE (Root Mean Squared Error): 0.325\n\nAccuracy of xgboost with estimator 160 on test set: 0.89\nPreprocessing by RobustScaler()\nMSE (Mean Squared Error) 0.106\nMAE (Mean Absolute Error) 0.23\nr^2 score 0.892\nRMSE (Root Mean Squared Error): 0.325\n\nAccuracy of xgboost with estimator 170 on test set: 0.89\nPreprocessing by RobustScaler()\nMSE (Mean Squared Error) 0.106\nMAE (Mean Absolute Error) 0.23\nr^2 score 0.892\nRMSE (Root Mean Squared Error): 0.325\n\nAccuracy of xgboost with estimator 180 on test set: 0.89\nPreprocessing by RobustScaler()\nMSE (Mean Squared Error) 0.106\nMAE (Mean Absolute Error) 0.23\nr^2 score 0.892\nRMSE (Root Mean Squared Error): 0.325\n\nAccuracy of xgboost with estimator 190 on test set: 0.89\nPreprocessing by RobustScaler()\nMSE (Mean Squared Error) 0.106\nMAE (Mean Absolute Error) 0.23\nr^2 score 0.892\nRMSE (Root Mean Squared Error): 0.325\n\nAccuracy of xgboost with estimator 200 on test set: 0.89\nPreprocessing by RobustScaler()\nMSE (Mean Squared Error) 0.106\nMAE (Mean Absolute Error) 0.23\nr^2 score 0.892\nRMSE (Root Mean Squared Error): 0.325\n\n"
    }
   ],
   "source": [
    "#XGBoost\n",
    "import xgboost as xgb\n",
    "est_num = [*range(10, 201, 10)]\n",
    "for index, val in enumerate(est_num):\n",
    "    xgreg = xgb.XGBRegressor(objective='reg:squarederror', colsample_bytree=1, eta=0.3, learning_rate=0.1, max_depth=5, alpha=3, n_estimators = val)\n",
    "    xgreg.fit(feature_train, label_train)\n",
    "    y_pred = xgreg.predict(feature_test)\n",
    "    print('Accuracy of xgboost with estimator {} on test set: {:.2f}'.format(val, xgreg.score(feature_test, label_test)))\n",
    "    mse = mean_squared_error(label_test, y_pred)\n",
    "    mae = mean_absolute_error(label_test, y_pred)\n",
    "    r2 = r2_score(label_test, y_pred)\n",
    "    print(\"Preprocessing by {}\".format(i))\n",
    "    print(\"MSE (Mean Squared Error)\", round(mse, 3))\n",
    "    print(\"MAE (Mean Absolute Error)\", round(mae, 3))\n",
    "    print(\"r^2 score\", round(r2,3))\n",
    "    print('RMSE (Root Mean Squared Error):', round(np.sqrt(mean_squared_error(label_test, y_pred)), 3))\n",
    "    print(\"\")"
   ]
  },
  {
   "cell_type": "code",
   "execution_count": 70,
   "metadata": {
    "tags": []
   },
   "outputs": [
    {
     "output_type": "stream",
     "name": "stdout",
     "text": "Accuracy of SVR with kernel rbf on test set: 0.86\nPreprocessing by rbf\nMSE (Mean Squared Error) 0.141\nMAE (Mean Absolute Error) 0.236\nr^2 score 0.857\nRMSE (Root Mean Squared Error): 0.375\n\nAccuracy of SVR with kernel poly on test set: 0.88\nPreprocessing by poly\nMSE (Mean Squared Error) 0.12\nMAE (Mean Absolute Error) 0.266\nr^2 score 0.878\nRMSE (Root Mean Squared Error): 0.346\n\nAccuracy of SVR with kernel linear on test set: 0.84\nPreprocessing by linear\nMSE (Mean Squared Error) 0.154\nMAE (Mean Absolute Error) 0.254\nr^2 score 0.844\nRMSE (Root Mean Squared Error): 0.392\n\n"
    }
   ],
   "source": [
    "#SVR\n",
    "from sklearn.svm import SVR\n",
    "\n",
    "scaler = StandardScaler()\n",
    "features_scaled = scaler.fit_transform(features.values)\n",
    "label_scaled = scaler.fit_transform(label.values.reshape(-1,1))\n",
    "feature_train, feature_test,label_train, label_test = train_test_split(features_scaled, label_scaled)\n",
    "\n",
    "kernels = ['rbf', 'poly', 'linear']\n",
    "for kernel in kernels:\n",
    "    svreg = SVR(kernel=kernel)\n",
    "    svreg.fit(feature_train, label_train)\n",
    "    y_pred = svreg.predict(feature_test)\n",
    "    print('Accuracy of SVR with kernel {} on test set: {:.2f}'.format(kernel, svreg.score(feature_test, label_test)))\n",
    "    mse = mean_squared_error(label_test, y_pred)\n",
    "    mae = mean_absolute_error(label_test, y_pred)\n",
    "    r2 = r2_score(label_test, y_pred)\n",
    "    print(\"Preprocessing by {}\".format(kernel))\n",
    "    print(\"MSE (Mean Squared Error)\", round(mse, 3))\n",
    "    print(\"MAE (Mean Absolute Error)\", round(mae, 3))\n",
    "    print(\"r^2 score\", round(r2,3))\n",
    "    print('RMSE (Root Mean Squared Error):', round(np.sqrt(mean_squared_error(label_test, y_pred)), 3))\n",
    "    print(\"\")"
   ]
  },
  {
   "cell_type": "code",
   "execution_count": 69,
   "metadata": {
    "tags": []
   },
   "outputs": [
    {
     "output_type": "stream",
     "name": "stdout",
     "text": "Accuracy of kNNRegressors with n_neighbor 1 on test set: 0.63\nPreprocessing by linear\nMSE (Mean Squared Error) 0.314\nMAE (Mean Absolute Error) 0.307\nr^2 score 0.63\nRMSE (Root Mean Squared Error): 0.56\n\nAccuracy of kNNRegressors with n_neighbor 2 on test set: 0.74\nPreprocessing by linear\nMSE (Mean Squared Error) 0.222\nMAE (Mean Absolute Error) 0.261\nr^2 score 0.739\nRMSE (Root Mean Squared Error): 0.471\n\nAccuracy of kNNRegressors with n_neighbor 3 on test set: 0.80\nPreprocessing by linear\nMSE (Mean Squared Error) 0.173\nMAE (Mean Absolute Error) 0.247\nr^2 score 0.797\nRMSE (Root Mean Squared Error): 0.416\n\nAccuracy of kNNRegressors with n_neighbor 4 on test set: 0.83\nPreprocessing by linear\nMSE (Mean Squared Error) 0.147\nMAE (Mean Absolute Error) 0.238\nr^2 score 0.826\nRMSE (Root Mean Squared Error): 0.384\n\nAccuracy of kNNRegressors with n_neighbor 5 on test set: 0.83\nPreprocessing by linear\nMSE (Mean Squared Error) 0.142\nMAE (Mean Absolute Error) 0.245\nr^2 score 0.833\nRMSE (Root Mean Squared Error): 0.377\n\nAccuracy of kNNRegressors with n_neighbor 6 on test set: 0.83\nPreprocessing by linear\nMSE (Mean Squared Error) 0.14\nMAE (Mean Absolute Error) 0.249\nr^2 score 0.835\nRMSE (Root Mean Squared Error): 0.374\n\nAccuracy of kNNRegressors with n_neighbor 7 on test set: 0.86\nPreprocessing by linear\nMSE (Mean Squared Error) 0.12\nMAE (Mean Absolute Error) 0.226\nr^2 score 0.859\nRMSE (Root Mean Squared Error): 0.346\n\nAccuracy of kNNRegressors with n_neighbor 8 on test set: 0.87\nPreprocessing by linear\nMSE (Mean Squared Error) 0.108\nMAE (Mean Absolute Error) 0.22\nr^2 score 0.873\nRMSE (Root Mean Squared Error): 0.329\n\nAccuracy of kNNRegressors with n_neighbor 9 on test set: 0.86\nPreprocessing by linear\nMSE (Mean Squared Error) 0.12\nMAE (Mean Absolute Error) 0.225\nr^2 score 0.858\nRMSE (Root Mean Squared Error): 0.347\n\nAccuracy of kNNRegressors with n_neighbor 10 on test set: 0.86\nPreprocessing by linear\nMSE (Mean Squared Error) 0.115\nMAE (Mean Absolute Error) 0.225\nr^2 score 0.864\nRMSE (Root Mean Squared Error): 0.34\n\nAccuracy of kNNRegressors with n_neighbor 11 on test set: 0.85\nPreprocessing by linear\nMSE (Mean Squared Error) 0.127\nMAE (Mean Absolute Error) 0.228\nr^2 score 0.85\nRMSE (Root Mean Squared Error): 0.357\n\nAccuracy of kNNRegressors with n_neighbor 12 on test set: 0.84\nPreprocessing by linear\nMSE (Mean Squared Error) 0.133\nMAE (Mean Absolute Error) 0.227\nr^2 score 0.844\nRMSE (Root Mean Squared Error): 0.364\n\nAccuracy of kNNRegressors with n_neighbor 13 on test set: 0.83\nPreprocessing by linear\nMSE (Mean Squared Error) 0.142\nMAE (Mean Absolute Error) 0.233\nr^2 score 0.833\nRMSE (Root Mean Squared Error): 0.377\n\nAccuracy of kNNRegressors with n_neighbor 14 on test set: 0.84\nPreprocessing by linear\nMSE (Mean Squared Error) 0.139\nMAE (Mean Absolute Error) 0.234\nr^2 score 0.836\nRMSE (Root Mean Squared Error): 0.373\n\nAccuracy of kNNRegressors with n_neighbor 15 on test set: 0.83\nPreprocessing by linear\nMSE (Mean Squared Error) 0.142\nMAE (Mean Absolute Error) 0.236\nr^2 score 0.833\nRMSE (Root Mean Squared Error): 0.376\n\nAccuracy of kNNRegressors with n_neighbor 16 on test set: 0.84\nPreprocessing by linear\nMSE (Mean Squared Error) 0.138\nMAE (Mean Absolute Error) 0.236\nr^2 score 0.838\nRMSE (Root Mean Squared Error): 0.371\n\nAccuracy of kNNRegressors with n_neighbor 17 on test set: 0.85\nPreprocessing by linear\nMSE (Mean Squared Error) 0.129\nMAE (Mean Absolute Error) 0.231\nr^2 score 0.848\nRMSE (Root Mean Squared Error): 0.36\n\nAccuracy of kNNRegressors with n_neighbor 18 on test set: 0.85\nPreprocessing by linear\nMSE (Mean Squared Error) 0.127\nMAE (Mean Absolute Error) 0.232\nr^2 score 0.851\nRMSE (Root Mean Squared Error): 0.356\n\nAccuracy of kNNRegressors with n_neighbor 19 on test set: 0.83\nPreprocessing by linear\nMSE (Mean Squared Error) 0.141\nMAE (Mean Absolute Error) 0.239\nr^2 score 0.834\nRMSE (Root Mean Squared Error): 0.376\n\n"
    }
   ],
   "source": [
    "#kNNRegressors\n",
    "from sklearn.neighbors import KNeighborsRegressor\n",
    "n_neighbors = [*range(1, 20, 1)]\n",
    "for index,val in enumerate(n_neighbors):\n",
    "    kreg = KNeighborsRegressor(n_neighbors=val, weights='distance', algorithm='ball_tree')\n",
    "    kreg.fit(feature_train, label_train)\n",
    "    y_pred = kreg.predict(feature_test)\n",
    "    print('Accuracy of kNNRegressors with n_neighbor {} on test set: {:.2f}'.format(val, kreg.score(feature_test, label_test)))\n",
    "    mse = mean_squared_error(label_test, y_pred)\n",
    "    mae = mean_absolute_error(label_test, y_pred)\n",
    "    r2 = r2_score(label_test, y_pred)\n",
    "    print(\"Preprocessing by {}\".format(kernel))\n",
    "    print(\"MSE (Mean Squared Error)\", round(mse, 3))\n",
    "    print(\"MAE (Mean Absolute Error)\", round(mae, 3))\n",
    "    print(\"r^2 score\", round(r2,3))\n",
    "    print('RMSE (Root Mean Squared Error):', round(np.sqrt(mean_squared_error(label_test, y_pred)), 3))\n",
    "    print(\"\")"
   ]
  },
  {
   "source": [
    "Model yang paling ideal untuk dataset ini adalah model RandomForestRegressor dengan nilai r^2 score tertinggi dan rmse terendah dibandingkan model xgboost, svr, serta kNNregressor. Nilai r^2 score yang diperoleh dengan n_estimator 180 adalah 0.91 dan rmse sebesar 0.303. Jika dibandingkan dengan data-data pada boston-housing dan winequality-white model RandomForestRegressor memiliki tingkat akurasi yang tinggi dengan nilai standar-deviasi yang rendah."
   ],
   "cell_type": "markdown",
   "metadata": {}
  }
 ]
}